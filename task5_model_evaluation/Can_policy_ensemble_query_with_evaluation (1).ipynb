{
  "cells": [
    {
      "cell_type": "markdown",
      "id": "vKn48gXttML_",
      "metadata": {
        "id": "vKn48gXttML_"
      },
      "source": [
        "## **Use ensemble for LLM model**"
      ]
    },
    {
      "cell_type": "markdown",
      "id": "252c5160-b5be-4f0e-b072-bf76af1885c3",
      "metadata": {
        "id": "252c5160-b5be-4f0e-b072-bf76af1885c3"
      },
      "source": [
        "## To load the index and run query"
      ]
    },
    {
      "cell_type": "code",
      "execution_count": 1,
      "id": "2drQV0WqPolq",
      "metadata": {
        "id": "2drQV0WqPolq"
      },
      "outputs": [],
      "source": [
        "# !pip install -q huggingface_hub\n",
        "# !pip install -q llama-index\n",
        "# !pip install -q transformers\n",
        "# !pip install -q torch\n",
        "# !pip install -q gradio\n",
        "# !pip install -q llama-index-llms-huggingface\n",
        "# !pip install -q llama-index-llms-huggingface-api\n",
        "# !pip install -q llama-index-embeddings-huggingface\n",
        "# !pip install -q llama-index-llms-groq\n",
        "# !pip install -q llama-index-llms-gemini"
      ]
    },
    {
      "cell_type": "code",
      "execution_count": 2,
      "id": "BjM4cigtuIrv",
      "metadata": {
        "id": "BjM4cigtuIrv"
      },
      "outputs": [
        {
          "ename": "ModuleNotFoundError",
          "evalue": "No module named 'google.colab'",
          "output_type": "error",
          "traceback": [
            "\u001b[1;31m---------------------------------------------------------------------------\u001b[0m",
            "\u001b[1;31mModuleNotFoundError\u001b[0m                       Traceback (most recent call last)",
            "Cell \u001b[1;32mIn[2], line 1\u001b[0m\n\u001b[1;32m----> 1\u001b[0m \u001b[38;5;28;01mfrom\u001b[39;00m \u001b[38;5;21;01mgoogle\u001b[39;00m\u001b[38;5;21;01m.\u001b[39;00m\u001b[38;5;21;01mcolab\u001b[39;00m \u001b[38;5;28;01mimport\u001b[39;00m drive\n\u001b[0;32m      2\u001b[0m drive\u001b[38;5;241m.\u001b[39mmount(\u001b[38;5;124m'\u001b[39m\u001b[38;5;124m/content/drive\u001b[39m\u001b[38;5;124m'\u001b[39m)\n",
            "\u001b[1;31mModuleNotFoundError\u001b[0m: No module named 'google.colab'"
          ]
        }
      ],
      "source": [
        "from google.colab import drive\n",
        "drive.mount('/content/drive')"
      ]
    },
    {
      "cell_type": "code",
      "execution_count": 12,
      "id": "63f9de39-5393-463c-954d-5f1b7760db6f",
      "metadata": {
        "id": "63f9de39-5393-463c-954d-5f1b7760db6f"
      },
      "outputs": [
        {
          "ename": "KeyboardInterrupt",
          "evalue": "",
          "output_type": "error",
          "traceback": [
            "\u001b[1;31m---------------------------------------------------------------------------\u001b[0m",
            "\u001b[1;31mKeyboardInterrupt\u001b[0m                         Traceback (most recent call last)",
            "Cell \u001b[1;32mIn[12], line 31\u001b[0m\n\u001b[0;32m     22\u001b[0m Settings\u001b[38;5;241m.\u001b[39membed_model \u001b[38;5;241m=\u001b[39m embed_model\n\u001b[0;32m     24\u001b[0m \u001b[38;5;66;03m#load indexs store in presist_dir\u001b[39;00m\n\u001b[0;32m     25\u001b[0m \n\u001b[0;32m     26\u001b[0m \u001b[38;5;66;03m## Note: Use folder in the google drive which having indexes (do not use folder having .txt file).\u001b[39;00m\n\u001b[0;32m     27\u001b[0m \u001b[38;5;66;03m## Indexed are build and kept in sum_key_vector_index_ensemble folder on gDrive.\u001b[39;00m\n\u001b[0;32m     28\u001b[0m \u001b[38;5;66;03m## Location - https://drive.google.com/drive/folders/14ASzYUxIPeUCtsxFY9Jwzb1FKXY08lA5?usp=share_link\u001b[39;00m\n\u001b[0;32m     29\u001b[0m \u001b[38;5;66;03m## If required, you can built it again. Please let us know to do it.\u001b[39;00m\n\u001b[1;32m---> 31\u001b[0m storage_context \u001b[38;5;241m=\u001b[39m \u001b[43mStorageContext\u001b[49m\u001b[38;5;241;43m.\u001b[39;49m\u001b[43mfrom_defaults\u001b[49m\u001b[43m(\u001b[49m\u001b[43mpersist_dir\u001b[49m\u001b[43m \u001b[49m\u001b[38;5;241;43m=\u001b[39;49m\u001b[43m \u001b[49m\u001b[38;5;124;43mr\u001b[39;49m\u001b[38;5;124;43m'\u001b[39;49m\u001b[38;5;124;43mC:\u001b[39;49m\u001b[38;5;124;43m\\\u001b[39;49m\u001b[38;5;124;43mUsers\u001b[39;49m\u001b[38;5;124;43m\\\u001b[39;49m\u001b[38;5;124;43magshi\u001b[39;49m\u001b[38;5;124;43m\\\u001b[39;49m\u001b[38;5;124;43mDownloads\u001b[39;49m\u001b[38;5;124;43m\\\u001b[39;49m\u001b[38;5;124;43msum_key_vector_index_ensemble-20240909T154445Z-001-20240911T083314Z-001\u001b[39;49m\u001b[38;5;124;43m\\\u001b[39;49m\u001b[38;5;124;43msum_key_vector_index_ensemble-20240909T154445Z-001\u001b[39;49m\u001b[38;5;124;43m\\\u001b[39;49m\u001b[38;5;124;43msum_key_vector_index_ensemble\u001b[39;49m\u001b[38;5;124;43m'\u001b[39;49m\u001b[43m)\u001b[49m\n\u001b[0;32m     32\u001b[0m vector_index \u001b[38;5;241m=\u001b[39m load_index_from_storage(storage_context, index_id \u001b[38;5;241m=\u001b[39m \u001b[38;5;124m\"\u001b[39m\u001b[38;5;124m9ff973d9-c21b-4710-a8e6-dfe399aa2cd5\u001b[39m\u001b[38;5;124m\"\u001b[39m)\n\u001b[0;32m     33\u001b[0m keyword_index \u001b[38;5;241m=\u001b[39m load_index_from_storage(storage_context, index_id \u001b[38;5;241m=\u001b[39m \u001b[38;5;124m\"\u001b[39m\u001b[38;5;124m34a4783e-7bbe-4eb9-acc6-0227b9173688\u001b[39m\u001b[38;5;124m\"\u001b[39m)\n",
            "File \u001b[1;32m~\\AppData\\Local\\Packages\\PythonSoftwareFoundation.Python.3.11_qbz5n2kfra8p0\\LocalCache\\local-packages\\Python311\\site-packages\\llama_index\\core\\storage\\storage_context.py:134\u001b[0m, in \u001b[0;36mStorageContext.from_defaults\u001b[1;34m(cls, docstore, index_store, vector_store, image_store, vector_stores, graph_store, property_graph_store, persist_dir, fs)\u001b[0m\n\u001b[0;32m    132\u001b[0m     vector_stores \u001b[38;5;241m=\u001b[39m vector_stores\n\u001b[0;32m    133\u001b[0m \u001b[38;5;28;01melse\u001b[39;00m:\n\u001b[1;32m--> 134\u001b[0m     vector_stores \u001b[38;5;241m=\u001b[39m \u001b[43mSimpleVectorStore\u001b[49m\u001b[38;5;241;43m.\u001b[39;49m\u001b[43mfrom_namespaced_persist_dir\u001b[49m\u001b[43m(\u001b[49m\n\u001b[0;32m    135\u001b[0m \u001b[43m        \u001b[49m\u001b[43mpersist_dir\u001b[49m\u001b[43m,\u001b[49m\u001b[43m \u001b[49m\u001b[43mfs\u001b[49m\u001b[38;5;241;43m=\u001b[39;49m\u001b[43mfs\u001b[49m\n\u001b[0;32m    136\u001b[0m \u001b[43m    \u001b[49m\u001b[43m)\u001b[49m\n\u001b[0;32m    137\u001b[0m \u001b[38;5;28;01mif\u001b[39;00m image_store:\n\u001b[0;32m    138\u001b[0m     \u001b[38;5;66;03m# append image store to vector stores\u001b[39;00m\n\u001b[0;32m    139\u001b[0m     vector_stores[IMAGE_VECTOR_STORE_NAMESPACE] \u001b[38;5;241m=\u001b[39m image_store  \u001b[38;5;66;03m# type: ignore\u001b[39;00m\n",
            "File \u001b[1;32m~\\AppData\\Local\\Packages\\PythonSoftwareFoundation.Python.3.11_qbz5n2kfra8p0\\LocalCache\\local-packages\\Python311\\site-packages\\llama_index\\core\\vector_stores\\simple.py:203\u001b[0m, in \u001b[0;36mSimpleVectorStore.from_namespaced_persist_dir\u001b[1;34m(cls, persist_dir, fs)\u001b[0m\n\u001b[0;32m    199\u001b[0m                 vector_stores[DEFAULT_VECTOR_STORE] \u001b[38;5;241m=\u001b[39m \u001b[38;5;28mcls\u001b[39m\u001b[38;5;241m.\u001b[39mfrom_persist_dir(\n\u001b[0;32m    200\u001b[0m                     persist_dir\u001b[38;5;241m=\u001b[39mpersist_dir, fs\u001b[38;5;241m=\u001b[39mfs\n\u001b[0;32m    201\u001b[0m                 )\n\u001b[0;32m    202\u001b[0m             \u001b[38;5;28;01melse\u001b[39;00m:\n\u001b[1;32m--> 203\u001b[0m                 vector_stores[namespace] \u001b[38;5;241m=\u001b[39m \u001b[38;5;28;43mcls\u001b[39;49m\u001b[38;5;241;43m.\u001b[39;49m\u001b[43mfrom_persist_dir\u001b[49m\u001b[43m(\u001b[49m\n\u001b[0;32m    204\u001b[0m \u001b[43m                    \u001b[49m\u001b[43mpersist_dir\u001b[49m\u001b[38;5;241;43m=\u001b[39;49m\u001b[43mpersist_dir\u001b[49m\u001b[43m,\u001b[49m\u001b[43m \u001b[49m\u001b[43mnamespace\u001b[49m\u001b[38;5;241;43m=\u001b[39;49m\u001b[43mnamespace\u001b[49m\u001b[43m,\u001b[49m\u001b[43m \u001b[49m\u001b[43mfs\u001b[49m\u001b[38;5;241;43m=\u001b[39;49m\u001b[43mfs\u001b[49m\n\u001b[0;32m    205\u001b[0m \u001b[43m                \u001b[49m\u001b[43m)\u001b[49m\n\u001b[0;32m    206\u001b[0m \u001b[38;5;28;01mexcept\u001b[39;00m \u001b[38;5;167;01mException\u001b[39;00m:\n\u001b[0;32m    207\u001b[0m     \u001b[38;5;66;03m# failed to listdir, so assume there is only one store\u001b[39;00m\n\u001b[0;32m    208\u001b[0m     \u001b[38;5;28;01mtry\u001b[39;00m:\n",
            "File \u001b[1;32m~\\AppData\\Local\\Packages\\PythonSoftwareFoundation.Python.3.11_qbz5n2kfra8p0\\LocalCache\\local-packages\\Python311\\site-packages\\llama_index\\core\\vector_stores\\simple.py:179\u001b[0m, in \u001b[0;36mSimpleVectorStore.from_persist_dir\u001b[1;34m(cls, persist_dir, namespace, fs)\u001b[0m\n\u001b[0;32m    177\u001b[0m \u001b[38;5;28;01melse\u001b[39;00m:\n\u001b[0;32m    178\u001b[0m     persist_path \u001b[38;5;241m=\u001b[39m os\u001b[38;5;241m.\u001b[39mpath\u001b[38;5;241m.\u001b[39mjoin(persist_dir, persist_fname)\n\u001b[1;32m--> 179\u001b[0m \u001b[38;5;28;01mreturn\u001b[39;00m \u001b[38;5;28;43mcls\u001b[39;49m\u001b[38;5;241;43m.\u001b[39;49m\u001b[43mfrom_persist_path\u001b[49m\u001b[43m(\u001b[49m\u001b[43mpersist_path\u001b[49m\u001b[43m,\u001b[49m\u001b[43m \u001b[49m\u001b[43mfs\u001b[49m\u001b[38;5;241;43m=\u001b[39;49m\u001b[43mfs\u001b[49m\u001b[43m)\u001b[49m\n",
            "File \u001b[1;32m~\\AppData\\Local\\Packages\\PythonSoftwareFoundation.Python.3.11_qbz5n2kfra8p0\\LocalCache\\local-packages\\Python311\\site-packages\\llama_index\\core\\vector_stores\\simple.py:415\u001b[0m, in \u001b[0;36mSimpleVectorStore.from_persist_path\u001b[1;34m(cls, persist_path, fs)\u001b[0m\n\u001b[0;32m    413\u001b[0m \u001b[38;5;28;01mwith\u001b[39;00m fs\u001b[38;5;241m.\u001b[39mopen(persist_path, \u001b[38;5;124m\"\u001b[39m\u001b[38;5;124mrb\u001b[39m\u001b[38;5;124m\"\u001b[39m) \u001b[38;5;28;01mas\u001b[39;00m f:\n\u001b[0;32m    414\u001b[0m     data_dict \u001b[38;5;241m=\u001b[39m json\u001b[38;5;241m.\u001b[39mload(f)\n\u001b[1;32m--> 415\u001b[0m     data \u001b[38;5;241m=\u001b[39m \u001b[43mSimpleVectorStoreData\u001b[49m\u001b[38;5;241;43m.\u001b[39;49m\u001b[43mfrom_dict\u001b[49m\u001b[43m(\u001b[49m\u001b[43mdata_dict\u001b[49m\u001b[43m)\u001b[49m\n\u001b[0;32m    416\u001b[0m \u001b[38;5;28;01mreturn\u001b[39;00m \u001b[38;5;28mcls\u001b[39m(data)\n",
            "File \u001b[1;32m~\\AppData\\Local\\Packages\\PythonSoftwareFoundation.Python.3.11_qbz5n2kfra8p0\\LocalCache\\local-packages\\Python311\\site-packages\\dataclasses_json\\api.py:70\u001b[0m, in \u001b[0;36mDataClassJsonMixin.from_dict\u001b[1;34m(cls, kvs, infer_missing)\u001b[0m\n\u001b[0;32m     65\u001b[0m \u001b[38;5;129m@classmethod\u001b[39m\n\u001b[0;32m     66\u001b[0m \u001b[38;5;28;01mdef\u001b[39;00m \u001b[38;5;21mfrom_dict\u001b[39m(\u001b[38;5;28mcls\u001b[39m: Type[A],\n\u001b[0;32m     67\u001b[0m               kvs: Json,\n\u001b[0;32m     68\u001b[0m               \u001b[38;5;241m*\u001b[39m,\n\u001b[0;32m     69\u001b[0m               infer_missing\u001b[38;5;241m=\u001b[39m\u001b[38;5;28;01mFalse\u001b[39;00m) \u001b[38;5;241m-\u001b[39m\u001b[38;5;241m>\u001b[39m A:\n\u001b[1;32m---> 70\u001b[0m     \u001b[38;5;28;01mreturn\u001b[39;00m \u001b[43m_decode_dataclass\u001b[49m\u001b[43m(\u001b[49m\u001b[38;5;28;43mcls\u001b[39;49m\u001b[43m,\u001b[49m\u001b[43m \u001b[49m\u001b[43mkvs\u001b[49m\u001b[43m,\u001b[49m\u001b[43m \u001b[49m\u001b[43minfer_missing\u001b[49m\u001b[43m)\u001b[49m\n",
            "File \u001b[1;32m~\\AppData\\Local\\Packages\\PythonSoftwareFoundation.Python.3.11_qbz5n2kfra8p0\\LocalCache\\local-packages\\Python311\\site-packages\\dataclasses_json\\core.py:233\u001b[0m, in \u001b[0;36m_decode_dataclass\u001b[1;34m(cls, kvs, infer_missing)\u001b[0m\n\u001b[0;32m    231\u001b[0m     init_kwargs[field\u001b[38;5;241m.\u001b[39mname] \u001b[38;5;241m=\u001b[39m value\n\u001b[0;32m    232\u001b[0m \u001b[38;5;28;01melif\u001b[39;00m _is_supported_generic(field_type) \u001b[38;5;129;01mand\u001b[39;00m field_type \u001b[38;5;241m!=\u001b[39m \u001b[38;5;28mstr\u001b[39m:\n\u001b[1;32m--> 233\u001b[0m     init_kwargs[field\u001b[38;5;241m.\u001b[39mname] \u001b[38;5;241m=\u001b[39m \u001b[43m_decode_generic\u001b[49m\u001b[43m(\u001b[49m\u001b[43mfield_type\u001b[49m\u001b[43m,\u001b[49m\n\u001b[0;32m    234\u001b[0m \u001b[43m                                              \u001b[49m\u001b[43mfield_value\u001b[49m\u001b[43m,\u001b[49m\n\u001b[0;32m    235\u001b[0m \u001b[43m                                              \u001b[49m\u001b[43minfer_missing\u001b[49m\u001b[43m)\u001b[49m\n\u001b[0;32m    236\u001b[0m \u001b[38;5;28;01melse\u001b[39;00m:\n\u001b[0;32m    237\u001b[0m     init_kwargs[field\u001b[38;5;241m.\u001b[39mname] \u001b[38;5;241m=\u001b[39m _support_extended_types(field_type,\n\u001b[0;32m    238\u001b[0m                                                       field_value)\n",
            "File \u001b[1;32m~\\AppData\\Local\\Packages\\PythonSoftwareFoundation.Python.3.11_qbz5n2kfra8p0\\LocalCache\\local-packages\\Python311\\site-packages\\dataclasses_json\\core.py:304\u001b[0m, in \u001b[0;36m_decode_generic\u001b[1;34m(type_, value, infer_missing)\u001b[0m\n\u001b[0;32m    301\u001b[0m     \u001b[38;5;66;03m# a mapping type has `.keys()` and `.values()`\u001b[39;00m\n\u001b[0;32m    302\u001b[0m     \u001b[38;5;66;03m# (see collections.abc)\u001b[39;00m\n\u001b[0;32m    303\u001b[0m     ks \u001b[38;5;241m=\u001b[39m _decode_dict_keys(k_type, value\u001b[38;5;241m.\u001b[39mkeys(), infer_missing)\n\u001b[1;32m--> 304\u001b[0m     vs \u001b[38;5;241m=\u001b[39m \u001b[43m_decode_items\u001b[49m\u001b[43m(\u001b[49m\u001b[43mv_type\u001b[49m\u001b[43m,\u001b[49m\u001b[43m \u001b[49m\u001b[43mvalue\u001b[49m\u001b[38;5;241;43m.\u001b[39;49m\u001b[43mvalues\u001b[49m\u001b[43m(\u001b[49m\u001b[43m)\u001b[49m\u001b[43m,\u001b[49m\u001b[43m \u001b[49m\u001b[43minfer_missing\u001b[49m\u001b[43m)\u001b[49m\n\u001b[0;32m    305\u001b[0m     xs \u001b[38;5;241m=\u001b[39m \u001b[38;5;28mzip\u001b[39m(ks, vs)\n\u001b[0;32m    306\u001b[0m \u001b[38;5;28;01melif\u001b[39;00m _is_tuple(type_):\n",
            "File \u001b[1;32m~\\AppData\\Local\\Packages\\PythonSoftwareFoundation.Python.3.11_qbz5n2kfra8p0\\LocalCache\\local-packages\\Python311\\site-packages\\dataclasses_json\\core.py:410\u001b[0m, in \u001b[0;36m_decode_items\u001b[1;34m(type_args, xs, infer_missing)\u001b[0m\n\u001b[0;32m    405\u001b[0m     \u001b[38;5;28;01melse\u001b[39;00m:\n\u001b[0;32m    406\u001b[0m         \u001b[38;5;28;01mraise\u001b[39;00m \u001b[38;5;167;01mTypeError\u001b[39;00m(\u001b[38;5;124mf\u001b[39m\u001b[38;5;124m\"\u001b[39m\u001b[38;5;124mNumber of types specified in the collection type \u001b[39m\u001b[38;5;132;01m{\u001b[39;00m\u001b[38;5;28mstr\u001b[39m(type_args)\u001b[38;5;132;01m}\u001b[39;00m\u001b[38;5;124m \u001b[39m\u001b[38;5;124m\"\u001b[39m\n\u001b[0;32m    407\u001b[0m                         \u001b[38;5;124mf\u001b[39m\u001b[38;5;124m\"\u001b[39m\u001b[38;5;124mdoes not match number of elements in the collection. In case you are working with tuples\u001b[39m\u001b[38;5;124m\"\u001b[39m\n\u001b[0;32m    408\u001b[0m                         \u001b[38;5;124mf\u001b[39m\u001b[38;5;124m\"\u001b[39m\u001b[38;5;124mtake a look at this document \u001b[39m\u001b[38;5;124m\"\u001b[39m\n\u001b[0;32m    409\u001b[0m                         \u001b[38;5;124mf\u001b[39m\u001b[38;5;124m\"\u001b[39m\u001b[38;5;124mdocs.python.org/3/library/typing.html#annotating-tuples.\u001b[39m\u001b[38;5;124m\"\u001b[39m)\n\u001b[1;32m--> 410\u001b[0m \u001b[38;5;28;01mreturn\u001b[39;00m \u001b[38;5;28mlist\u001b[39m(_decode_type(type_args, x, infer_missing) \u001b[38;5;28;01mfor\u001b[39;00m x \u001b[38;5;129;01min\u001b[39;00m xs)\n",
            "File \u001b[1;32m~\\AppData\\Local\\Packages\\PythonSoftwareFoundation.Python.3.11_qbz5n2kfra8p0\\LocalCache\\local-packages\\Python311\\site-packages\\dataclasses_json\\core.py:410\u001b[0m, in \u001b[0;36m<genexpr>\u001b[1;34m(.0)\u001b[0m\n\u001b[0;32m    405\u001b[0m     \u001b[38;5;28;01melse\u001b[39;00m:\n\u001b[0;32m    406\u001b[0m         \u001b[38;5;28;01mraise\u001b[39;00m \u001b[38;5;167;01mTypeError\u001b[39;00m(\u001b[38;5;124mf\u001b[39m\u001b[38;5;124m\"\u001b[39m\u001b[38;5;124mNumber of types specified in the collection type \u001b[39m\u001b[38;5;132;01m{\u001b[39;00m\u001b[38;5;28mstr\u001b[39m(type_args)\u001b[38;5;132;01m}\u001b[39;00m\u001b[38;5;124m \u001b[39m\u001b[38;5;124m\"\u001b[39m\n\u001b[0;32m    407\u001b[0m                         \u001b[38;5;124mf\u001b[39m\u001b[38;5;124m\"\u001b[39m\u001b[38;5;124mdoes not match number of elements in the collection. In case you are working with tuples\u001b[39m\u001b[38;5;124m\"\u001b[39m\n\u001b[0;32m    408\u001b[0m                         \u001b[38;5;124mf\u001b[39m\u001b[38;5;124m\"\u001b[39m\u001b[38;5;124mtake a look at this document \u001b[39m\u001b[38;5;124m\"\u001b[39m\n\u001b[0;32m    409\u001b[0m                         \u001b[38;5;124mf\u001b[39m\u001b[38;5;124m\"\u001b[39m\u001b[38;5;124mdocs.python.org/3/library/typing.html#annotating-tuples.\u001b[39m\u001b[38;5;124m\"\u001b[39m)\n\u001b[1;32m--> 410\u001b[0m \u001b[38;5;28;01mreturn\u001b[39;00m \u001b[38;5;28mlist\u001b[39m(\u001b[43m_decode_type\u001b[49m\u001b[43m(\u001b[49m\u001b[43mtype_args\u001b[49m\u001b[43m,\u001b[49m\u001b[43m \u001b[49m\u001b[43mx\u001b[49m\u001b[43m,\u001b[49m\u001b[43m \u001b[49m\u001b[43minfer_missing\u001b[49m\u001b[43m)\u001b[49m \u001b[38;5;28;01mfor\u001b[39;00m x \u001b[38;5;129;01min\u001b[39;00m xs)\n",
            "File \u001b[1;32m~\\AppData\\Local\\Packages\\PythonSoftwareFoundation.Python.3.11_qbz5n2kfra8p0\\LocalCache\\local-packages\\Python311\\site-packages\\dataclasses_json\\core.py:247\u001b[0m, in \u001b[0;36m_decode_type\u001b[1;34m(type_, value, infer_missing)\u001b[0m\n\u001b[0;32m    245\u001b[0m     \u001b[38;5;28;01mreturn\u001b[39;00m _get_decoder_in_global_config(type_)(value)\n\u001b[0;32m    246\u001b[0m \u001b[38;5;28;01mif\u001b[39;00m _is_supported_generic(type_):\n\u001b[1;32m--> 247\u001b[0m     \u001b[38;5;28;01mreturn\u001b[39;00m \u001b[43m_decode_generic\u001b[49m\u001b[43m(\u001b[49m\u001b[43mtype_\u001b[49m\u001b[43m,\u001b[49m\u001b[43m \u001b[49m\u001b[43mvalue\u001b[49m\u001b[43m,\u001b[49m\u001b[43m \u001b[49m\u001b[43minfer_missing\u001b[49m\u001b[43m)\u001b[49m\n\u001b[0;32m    248\u001b[0m \u001b[38;5;28;01mif\u001b[39;00m is_dataclass(type_) \u001b[38;5;129;01mor\u001b[39;00m is_dataclass(value):\n\u001b[0;32m    249\u001b[0m     \u001b[38;5;28;01mreturn\u001b[39;00m _decode_dataclass(type_, value, infer_missing)\n",
            "File \u001b[1;32m~\\AppData\\Local\\Packages\\PythonSoftwareFoundation.Python.3.11_qbz5n2kfra8p0\\LocalCache\\local-packages\\Python311\\site-packages\\dataclasses_json\\core.py:315\u001b[0m, in \u001b[0;36m_decode_generic\u001b[1;34m(type_, value, infer_missing)\u001b[0m\n\u001b[0;32m    313\u001b[0m     xs \u001b[38;5;241m=\u001b[39m \u001b[38;5;28mdict\u001b[39m(\u001b[38;5;28mzip\u001b[39m(_decode_items(_get_type_arg_param(type_, \u001b[38;5;241m0\u001b[39m), value\u001b[38;5;241m.\u001b[39mkeys(), infer_missing), value\u001b[38;5;241m.\u001b[39mvalues()))\n\u001b[0;32m    314\u001b[0m \u001b[38;5;28;01melse\u001b[39;00m:\n\u001b[1;32m--> 315\u001b[0m     xs \u001b[38;5;241m=\u001b[39m \u001b[43m_decode_items\u001b[49m\u001b[43m(\u001b[49m\u001b[43m_get_type_arg_param\u001b[49m\u001b[43m(\u001b[49m\u001b[43mtype_\u001b[49m\u001b[43m,\u001b[49m\u001b[43m \u001b[49m\u001b[38;5;241;43m0\u001b[39;49m\u001b[43m)\u001b[49m\u001b[43m,\u001b[49m\u001b[43m \u001b[49m\u001b[43mvalue\u001b[49m\u001b[43m,\u001b[49m\u001b[43m \u001b[49m\u001b[43minfer_missing\u001b[49m\u001b[43m)\u001b[49m\n\u001b[0;32m    317\u001b[0m collection_type \u001b[38;5;241m=\u001b[39m _resolve_collection_type_to_decode_to(type_)\n\u001b[0;32m    318\u001b[0m res \u001b[38;5;241m=\u001b[39m collection_type(xs)\n",
            "File \u001b[1;32m~\\AppData\\Local\\Packages\\PythonSoftwareFoundation.Python.3.11_qbz5n2kfra8p0\\LocalCache\\local-packages\\Python311\\site-packages\\dataclasses_json\\core.py:410\u001b[0m, in \u001b[0;36m_decode_items\u001b[1;34m(type_args, xs, infer_missing)\u001b[0m\n\u001b[0;32m    405\u001b[0m     \u001b[38;5;28;01melse\u001b[39;00m:\n\u001b[0;32m    406\u001b[0m         \u001b[38;5;28;01mraise\u001b[39;00m \u001b[38;5;167;01mTypeError\u001b[39;00m(\u001b[38;5;124mf\u001b[39m\u001b[38;5;124m\"\u001b[39m\u001b[38;5;124mNumber of types specified in the collection type \u001b[39m\u001b[38;5;132;01m{\u001b[39;00m\u001b[38;5;28mstr\u001b[39m(type_args)\u001b[38;5;132;01m}\u001b[39;00m\u001b[38;5;124m \u001b[39m\u001b[38;5;124m\"\u001b[39m\n\u001b[0;32m    407\u001b[0m                         \u001b[38;5;124mf\u001b[39m\u001b[38;5;124m\"\u001b[39m\u001b[38;5;124mdoes not match number of elements in the collection. In case you are working with tuples\u001b[39m\u001b[38;5;124m\"\u001b[39m\n\u001b[0;32m    408\u001b[0m                         \u001b[38;5;124mf\u001b[39m\u001b[38;5;124m\"\u001b[39m\u001b[38;5;124mtake a look at this document \u001b[39m\u001b[38;5;124m\"\u001b[39m\n\u001b[0;32m    409\u001b[0m                         \u001b[38;5;124mf\u001b[39m\u001b[38;5;124m\"\u001b[39m\u001b[38;5;124mdocs.python.org/3/library/typing.html#annotating-tuples.\u001b[39m\u001b[38;5;124m\"\u001b[39m)\n\u001b[1;32m--> 410\u001b[0m \u001b[38;5;28;01mreturn\u001b[39;00m \u001b[38;5;28mlist\u001b[39m(_decode_type(type_args, x, infer_missing) \u001b[38;5;28;01mfor\u001b[39;00m x \u001b[38;5;129;01min\u001b[39;00m xs)\n",
            "File \u001b[1;32m~\\AppData\\Local\\Packages\\PythonSoftwareFoundation.Python.3.11_qbz5n2kfra8p0\\LocalCache\\local-packages\\Python311\\site-packages\\dataclasses_json\\core.py:410\u001b[0m, in \u001b[0;36m<genexpr>\u001b[1;34m(.0)\u001b[0m\n\u001b[0;32m    405\u001b[0m     \u001b[38;5;28;01melse\u001b[39;00m:\n\u001b[0;32m    406\u001b[0m         \u001b[38;5;28;01mraise\u001b[39;00m \u001b[38;5;167;01mTypeError\u001b[39;00m(\u001b[38;5;124mf\u001b[39m\u001b[38;5;124m\"\u001b[39m\u001b[38;5;124mNumber of types specified in the collection type \u001b[39m\u001b[38;5;132;01m{\u001b[39;00m\u001b[38;5;28mstr\u001b[39m(type_args)\u001b[38;5;132;01m}\u001b[39;00m\u001b[38;5;124m \u001b[39m\u001b[38;5;124m\"\u001b[39m\n\u001b[0;32m    407\u001b[0m                         \u001b[38;5;124mf\u001b[39m\u001b[38;5;124m\"\u001b[39m\u001b[38;5;124mdoes not match number of elements in the collection. In case you are working with tuples\u001b[39m\u001b[38;5;124m\"\u001b[39m\n\u001b[0;32m    408\u001b[0m                         \u001b[38;5;124mf\u001b[39m\u001b[38;5;124m\"\u001b[39m\u001b[38;5;124mtake a look at this document \u001b[39m\u001b[38;5;124m\"\u001b[39m\n\u001b[0;32m    409\u001b[0m                         \u001b[38;5;124mf\u001b[39m\u001b[38;5;124m\"\u001b[39m\u001b[38;5;124mdocs.python.org/3/library/typing.html#annotating-tuples.\u001b[39m\u001b[38;5;124m\"\u001b[39m)\n\u001b[1;32m--> 410\u001b[0m \u001b[38;5;28;01mreturn\u001b[39;00m \u001b[38;5;28mlist\u001b[39m(\u001b[43m_decode_type\u001b[49m\u001b[43m(\u001b[49m\u001b[43mtype_args\u001b[49m\u001b[43m,\u001b[49m\u001b[43m \u001b[49m\u001b[43mx\u001b[49m\u001b[43m,\u001b[49m\u001b[43m \u001b[49m\u001b[43minfer_missing\u001b[49m\u001b[43m)\u001b[49m \u001b[38;5;28;01mfor\u001b[39;00m x \u001b[38;5;129;01min\u001b[39;00m xs)\n",
            "File \u001b[1;32m~\\AppData\\Local\\Packages\\PythonSoftwareFoundation.Python.3.11_qbz5n2kfra8p0\\LocalCache\\local-packages\\Python311\\site-packages\\dataclasses_json\\core.py:250\u001b[0m, in \u001b[0;36m_decode_type\u001b[1;34m(type_, value, infer_missing)\u001b[0m\n\u001b[0;32m    248\u001b[0m \u001b[38;5;28;01mif\u001b[39;00m is_dataclass(type_) \u001b[38;5;129;01mor\u001b[39;00m is_dataclass(value):\n\u001b[0;32m    249\u001b[0m     \u001b[38;5;28;01mreturn\u001b[39;00m _decode_dataclass(type_, value, infer_missing)\n\u001b[1;32m--> 250\u001b[0m \u001b[38;5;28;01mreturn\u001b[39;00m \u001b[43m_support_extended_types\u001b[49m\u001b[43m(\u001b[49m\u001b[43mtype_\u001b[49m\u001b[43m,\u001b[49m\u001b[43m \u001b[49m\u001b[43mvalue\u001b[49m\u001b[43m)\u001b[49m\n",
            "File \u001b[1;32m~\\AppData\\Local\\Packages\\PythonSoftwareFoundation.Python.3.11_qbz5n2kfra8p0\\LocalCache\\local-packages\\Python311\\site-packages\\dataclasses_json\\core.py:271\u001b[0m, in \u001b[0;36m_support_extended_types\u001b[1;34m(field_type, field_value)\u001b[0m\n\u001b[0;32m    267\u001b[0m \u001b[38;5;28;01melif\u001b[39;00m _issubclass_safe(field_type, UUID):\n\u001b[0;32m    268\u001b[0m     res \u001b[38;5;241m=\u001b[39m (field_value\n\u001b[0;32m    269\u001b[0m            \u001b[38;5;28;01mif\u001b[39;00m \u001b[38;5;28misinstance\u001b[39m(field_value, UUID)\n\u001b[0;32m    270\u001b[0m            \u001b[38;5;28;01melse\u001b[39;00m UUID(field_value))\n\u001b[1;32m--> 271\u001b[0m \u001b[38;5;28;01melif\u001b[39;00m \u001b[43m_issubclass_safe\u001b[49m\u001b[43m(\u001b[49m\u001b[43mfield_type\u001b[49m\u001b[43m,\u001b[49m\u001b[43m \u001b[49m\u001b[43m(\u001b[49m\u001b[38;5;28;43mint\u001b[39;49m\u001b[43m,\u001b[49m\u001b[43m \u001b[49m\u001b[38;5;28;43mfloat\u001b[39;49m\u001b[43m,\u001b[49m\u001b[43m \u001b[49m\u001b[38;5;28;43mstr\u001b[39;49m\u001b[43m,\u001b[49m\u001b[43m \u001b[49m\u001b[38;5;28;43mbool\u001b[39;49m\u001b[43m)\u001b[49m\u001b[43m)\u001b[49m:\n\u001b[0;32m    272\u001b[0m     res \u001b[38;5;241m=\u001b[39m (field_value\n\u001b[0;32m    273\u001b[0m            \u001b[38;5;28;01mif\u001b[39;00m \u001b[38;5;28misinstance\u001b[39m(field_value, field_type)\n\u001b[0;32m    274\u001b[0m            \u001b[38;5;28;01melse\u001b[39;00m field_type(field_value))\n\u001b[0;32m    275\u001b[0m \u001b[38;5;28;01melse\u001b[39;00m:\n",
            "File \u001b[1;32m~\\AppData\\Local\\Packages\\PythonSoftwareFoundation.Python.3.11_qbz5n2kfra8p0\\LocalCache\\local-packages\\Python311\\site-packages\\dataclasses_json\\utils.py:118\u001b[0m, in \u001b[0;36m_issubclass_safe\u001b[1;34m(cls, classinfo)\u001b[0m\n\u001b[0;32m    116\u001b[0m \u001b[38;5;28;01mdef\u001b[39;00m \u001b[38;5;21m_issubclass_safe\u001b[39m(\u001b[38;5;28mcls\u001b[39m, classinfo):\n\u001b[0;32m    117\u001b[0m     \u001b[38;5;28;01mtry\u001b[39;00m:\n\u001b[1;32m--> 118\u001b[0m         \u001b[38;5;28;01mreturn\u001b[39;00m \u001b[38;5;28missubclass\u001b[39m(\u001b[38;5;28mcls\u001b[39m, classinfo)\n\u001b[0;32m    119\u001b[0m     \u001b[38;5;28;01mexcept\u001b[39;00m \u001b[38;5;167;01mException\u001b[39;00m:\n\u001b[0;32m    120\u001b[0m         \u001b[38;5;28;01mreturn\u001b[39;00m (_is_new_type_subclass_safe(\u001b[38;5;28mcls\u001b[39m, classinfo)\n\u001b[0;32m    121\u001b[0m                 \u001b[38;5;28;01mif\u001b[39;00m _is_new_type(\u001b[38;5;28mcls\u001b[39m)\n\u001b[0;32m    122\u001b[0m                 \u001b[38;5;28;01melse\u001b[39;00m \u001b[38;5;28;01mFalse\u001b[39;00m)\n",
            "\u001b[1;31mKeyboardInterrupt\u001b[0m: "
          ]
        },
        {
          "ename": "",
          "evalue": "",
          "output_type": "error",
          "traceback": [
            "\u001b[1;31mThe Kernel crashed while executing code in the current cell or a previous cell. \n",
            "\u001b[1;31mPlease review the code in the cell(s) to identify a possible cause of the failure. \n",
            "\u001b[1;31mClick <a href='https://aka.ms/vscodeJupyterKernelCrash'>here</a> for more info. \n",
            "\u001b[1;31mView Jupyter <a href='command:jupyter.viewOutput'>log</a> for further details."
          ]
        }
      ],
      "source": [
        "from llama_index.core import Settings\n",
        "from llama_index.llms.groq import Groq\n",
        "from llama_index.llms.huggingface import HuggingFaceLLM\n",
        "from llama_index.llms.huggingface_api import HuggingFaceInferenceAPI\n",
        "from llama_index.embeddings.huggingface import HuggingFaceEmbedding\n",
        "from llama_index.core import StorageContext\n",
        "from llama_index.core import load_index_from_storage\n",
        "from llama_index.core import SummaryIndex\n",
        "from llama_index.core import PromptTemplate\n",
        "from llama_index.core.tools import QueryEngineTool\n",
        "import pandas as pd\n",
        "import nest_asyncio\n",
        "nest_asyncio.apply()\n",
        "\n",
        "# define LLM, Embed models\n",
        "\n",
        "## Note: Please replace API keys with your own API keys here.\n",
        "\n",
        "Settings.llm = Groq(model=\"llama-3.1-8b-instant\", api_key=\"your key\")\n",
        "Settings.chunk_size = 1024\n",
        "embed_model = HuggingFaceEmbedding(model_name=\"thenlper/gte-large\")\n",
        "Settings.embed_model = embed_model\n",
        "\n",
        "#load indexs store in presist_dir\n",
        "\n",
        "## Note: Use folder in the google drive which having indexes (do not use folder having .txt file).\n",
        "## Indexed are build and kept in sum_key_vector_index_ensemble folder on gDrive.\n",
        "## Location - https://drive.google.com/drive/folders/14ASzYUxIPeUCtsxFY9Jwzb1FKXY08lA5?usp=share_link\n",
        "## If required, you can built it again. Please let us know to do it.\n",
        "\n",
        "storage_context = StorageContext.from_defaults(persist_dir = r'C:\\Users\\agshi\\Downloads\\sum_key_vector_index_ensemble-20240909T154445Z-001-20240911T083314Z-001\\sum_key_vector_index_ensemble-20240909T154445Z-001\\sum_key_vector_index_ensemble')\n",
        "vector_index = load_index_from_storage(storage_context, index_id = \"9ff973d9-c21b-4710-a8e6-dfe399aa2cd5\")\n",
        "keyword_index = load_index_from_storage(storage_context, index_id = \"34a4783e-7bbe-4eb9-acc6-0227b9173688\")\n",
        "summary_index = load_index_from_storage(storage_context, index_id = \"1f3c9c00-00af-4435-be85-78e07c12417e\")\n",
        "\n",
        "#the default question answer prompt template\n",
        "\n",
        "QA_PROMPT_TMPL = (\n",
        "    \"Context information is below.\\n\"\n",
        "    \"---------------------\\n\"\n",
        "    \"{context_str}\\n\"\n",
        "    \"---------------------\\n\"\n",
        "    \"Given the context information and not prior knowledge, \"\n",
        "    \"answer the question. If the answer is not in the context, inform \"\n",
        "    \"the user that you can't answer the question - DO NOT MAKE UP AN ANSWER.\\n\"\n",
        "    \"Question: {query_str}\\n\"\n",
        "    \"Answer : \"\n",
        ")\n",
        "QA_PROMPT = PromptTemplate(QA_PROMPT_TMPL)\n",
        "\n",
        "# assign prompt to query_engine\n",
        "\n",
        "keyword_query_engine = keyword_index.as_query_engine(\n",
        "    text_qa_template=QA_PROMPT\n",
        ")\n",
        "vector_query_engine = vector_index.as_query_engine(text_qa_template=QA_PROMPT)\n",
        "\n",
        "summary_query_engine = summary_index.as_query_engine(text_qa_template=QA_PROMPT)\n",
        "\n",
        "\n",
        "# Convert them to queryenginetools\n",
        "\n",
        "keyword_tool = QueryEngineTool.from_defaults(\n",
        "    query_engine=keyword_query_engine,\n",
        "    description=\"Useful for answering questions about this context\",\n",
        ")\n",
        "\n",
        "vector_tool = QueryEngineTool.from_defaults(\n",
        "    query_engine=vector_query_engine,\n",
        "    description=\"Useful for answering questions about this context\",\n",
        ")\n",
        "\n",
        "summary_tool = QueryEngineTool.from_defaults(\n",
        "    query_engine=summary_query_engine,\n",
        "    description=\"Useful for answering questions about this context\",\n",
        ")\n",
        "\n",
        "# To enable synthesis between documents\n",
        "\n",
        "from llama_index.core.query_engine import RouterQueryEngine\n",
        "from llama_index.core.selectors import LLMSingleSelector, LLMMultiSelector\n",
        "from llama_index.core.selectors import (\n",
        "    PydanticMultiSelector,\n",
        "    PydanticSingleSelector,\n",
        ")\n",
        "from llama_index.core.response_synthesizers import TreeSummarize\n",
        "\n",
        "TREE_SUMMARIZE_PROMPT_TMPL = (\n",
        "    \"Context information from multiple sources is below. Each source may or\"\n",
        "    \" may not have \\na relevance score attached to\"\n",
        "    \" it.\\n---------------------\\n{context_str}\\n---------------------\\nGiven\"\n",
        "    \" the information from multiple sources and their associated relevance\"\n",
        "    \" scores (if provided) and not prior knowledge, answer the question. If\"\n",
        "    \" the answer is not in the context, inform the user that you can't answer\"\n",
        "    \" the question.\\nQuestion: {query_str}\\nAnswer: \"\n",
        ")\n",
        "\n",
        "tree_summarize = TreeSummarize(\n",
        "    summary_template=PromptTemplate(TREE_SUMMARIZE_PROMPT_TMPL)\n",
        ")\n",
        "\n",
        "#this the final query_engine\n",
        "\n",
        "query_engine = RouterQueryEngine(\n",
        "    selector=LLMMultiSelector.from_defaults(),\n",
        "    query_engine_tools=[\n",
        "        keyword_tool,\n",
        "        vector_tool,\n",
        "        summary_tool,\n",
        "    ],\n",
        "    summarizer=tree_summarize,\n",
        ")"
      ]
    },
    {
      "cell_type": "markdown",
      "id": "ac39e364-1be3-46e8-bf84-55148d1786fa",
      "metadata": {
        "id": "ac39e364-1be3-46e8-bf84-55148d1786fa"
      },
      "source": [
        "### without any query transform"
      ]
    },
    {
      "cell_type": "code",
      "execution_count": 11,
      "id": "49fa4f27-4d8a-4074-bf27-a5195e73bdce",
      "metadata": {
        "id": "49fa4f27-4d8a-4074-bf27-a5195e73bdce"
      },
      "outputs": [
        {
          "name": "stderr",
          "output_type": "stream",
          "text": [
            "C:\\Users\\agshi\\AppData\\Local\\Packages\\PythonSoftwareFoundation.Python.3.11_qbz5n2kfra8p0\\LocalCache\\local-packages\\Python311\\site-packages\\transformers\\models\\bert\\modeling_bert.py:439: UserWarning: 1Torch was not compiled with flash attention. (Triggered internally at ..\\aten\\src\\ATen\\native\\transformers\\cuda\\sdp_utils.cpp:455.)\n",
            "  attn_output = torch.nn.functional.scaled_dot_product_attention(\n"
          ]
        },
        {
          "data": {
            "text/markdown": [
              "**`Final Response:`** I'm ready to answer your question based on the provided context information, specifically regarding the disclosure and use of confidential information as per the Global Minimum Tax Act and related legislation. Please go ahead and ask your question."
            ],
            "text/plain": [
              "<IPython.core.display.Markdown object>"
            ]
          },
          "metadata": {},
          "output_type": "display_data"
        }
      ],
      "source": [
        "response = await query_engine.aquery(\n",
        "    \" \"\n",
        ")\n",
        "\n",
        "from llama_index.core.response.notebook_utils import display_response\n",
        "\n",
        "display_response(response)"
      ]
    },
    {
      "cell_type": "markdown",
      "id": "b2940a9f-b335-4740-955a-b0ed46861541",
      "metadata": {
        "id": "b2940a9f-b335-4740-955a-b0ed46861541"
      },
      "source": [
        "### add query transformation improve retrival"
      ]
    },
    {
      "cell_type": "code",
      "execution_count": 13,
      "id": "42bf1a09-69e8-48f9-95c0-017d28ce43f4",
      "metadata": {
        "id": "42bf1a09-69e8-48f9-95c0-017d28ce43f4"
      },
      "outputs": [],
      "source": [
        "def refine_query(query: str) -> str:\n",
        "    refined_query = f\"Provide a detailed answer about '{query}' in the context of legal enquiries\"\n",
        "    return refined_query"
      ]
    },
    {
      "cell_type": "code",
      "execution_count": 14,
      "id": "bdf741e8-bdf1-4a32-9cb1-f01a1e5b7264",
      "metadata": {
        "id": "bdf741e8-bdf1-4a32-9cb1-f01a1e5b7264"
      },
      "outputs": [],
      "source": [
        "original_query = \"How much can the Minister of Health pay out of the Consolidated Revenue Fund in relation to coronavirus disease 2019 (COVID-19) tests\"\n",
        "refined_query = refine_query(original_query)"
      ]
    },
    {
      "cell_type": "code",
      "execution_count": 15,
      "id": "b0dc9029-8ab3-4bba-bf83-2dffba2baf39",
      "metadata": {
        "id": "b0dc9029-8ab3-4bba-bf83-2dffba2baf39"
      },
      "outputs": [
        {
          "data": {
            "text/markdown": [
              "**`Final Response:`** Based on the provided context information from Bill C-10 and Bill C-8, the Minister of Health is authorized to make payments out of the Consolidated Revenue Fund in relation to coronavirus disease 2019 (COVID-19) tests.\n",
              "\n",
              "From Bill C-10, it is stated that the Minister of Health can pay up to $2.5 billion out of the Consolidated Revenue Fund in relation to COVID-19 tests. This is stated in Section 1 of the Act, which reads: \"The Minister of Health may make payments, the total of which may not exceed $2.5 billion, out of the Consolidated Revenue Fund for any expenses incurred on or after January 1, 2022 in relation to coronavirus disease 2019 (COVID-19) tests.\"\n",
              "\n",
              "From Bill C-8, it is stated that the Minister of Health can also pay up to $1.72 billion out of the Consolidated Revenue Fund in relation to COVID-19 tests. This is stated in Part 6 of the Act, which reads: \"Part 6 authorizes the Minister of Health to make payments of up to $1.72 billion out of the Consolidated Revenue Fund in relation to coronavirus disease 2019 (COVID-19) tests.\"\n",
              "\n",
              "It is worth noting that these two bills may have different purposes and provisions, but in the context of the question, both bills provide information on the Minister of Health's authority to make payments out of the Consolidated Revenue Fund in relation to COVID-19 tests.\n",
              "\n",
              "Therefore, the total amount that the Minister of Health can pay out of the Consolidated Revenue Fund in relation to coronavirus disease 2019 (COVID-19) tests is the sum of the authorized amounts from both bills, which is $2.5 billion + $1.72 billion = $4.22 billion.\n",
              "\n",
              "However, it is also possible that the Minister of Health may only be authorized to make payments up to the lower of the two amounts, which is $1.72 billion, if the expenses incurred are only up to that amount. But based on the information provided, it seems that the Minister of Health has the authority to make payments up to the higher amount of $2.5 billion."
            ],
            "text/plain": [
              "<IPython.core.display.Markdown object>"
            ]
          },
          "metadata": {},
          "output_type": "display_data"
        }
      ],
      "source": [
        "response = await query_engine.aquery(\n",
        "    refined_query\n",
        ")\n",
        "\n",
        "from llama_index.core.response.notebook_utils import display_response\n",
        "\n",
        "display_response(response)"
      ]
    },
    {
      "cell_type": "markdown",
      "id": "9622762a-0109-4a35-ad70-eae7291f53d4",
      "metadata": {
        "id": "9622762a-0109-4a35-ad70-eae7291f53d4"
      },
      "source": [
        "## Evaluation"
      ]
    },
    {
      "cell_type": "markdown",
      "id": "2GjZqIeUIQ0r",
      "metadata": {
        "id": "2GjZqIeUIQ0r"
      },
      "source": [
        "## Proviing API key for Google Gemini API"
      ]
    },
    {
      "cell_type": "markdown",
      "id": "tg6gD-aaJig7",
      "metadata": {
        "id": "tg6gD-aaJig7"
      },
      "source": [
        "## loading the data from google drive"
      ]
    },
    {
      "cell_type": "code",
      "execution_count": 11,
      "id": "8rfq-4aHIODo",
      "metadata": {
        "id": "8rfq-4aHIODo"
      },
      "outputs": [
        {
          "ename": "ImportError",
          "evalue": "`llama-index-readers-file` package not found",
          "output_type": "error",
          "traceback": [
            "\u001b[1;31m---------------------------------------------------------------------------\u001b[0m",
            "\u001b[1;31mImportError\u001b[0m                               Traceback (most recent call last)",
            "File \u001b[1;32m~\\AppData\\Local\\Packages\\PythonSoftwareFoundation.Python.3.11_qbz5n2kfra8p0\\LocalCache\\local-packages\\Python311\\site-packages\\llama_index\\core\\readers\\file\\base.py:52\u001b[0m, in \u001b[0;36m_try_loading_included_file_formats\u001b[1;34m()\u001b[0m\n\u001b[0;32m     51\u001b[0m \u001b[38;5;28;01mtry\u001b[39;00m:\n\u001b[1;32m---> 52\u001b[0m     \u001b[38;5;28;01mfrom\u001b[39;00m \u001b[38;5;21;01mllama_index\u001b[39;00m\u001b[38;5;21;01m.\u001b[39;00m\u001b[38;5;21;01mreaders\u001b[39;00m\u001b[38;5;21;01m.\u001b[39;00m\u001b[38;5;21;01mfile\u001b[39;00m \u001b[38;5;28;01mimport\u001b[39;00m (\n\u001b[0;32m     53\u001b[0m         DocxReader,\n\u001b[0;32m     54\u001b[0m         EpubReader,\n\u001b[0;32m     55\u001b[0m         HWPReader,\n\u001b[0;32m     56\u001b[0m         ImageReader,\n\u001b[0;32m     57\u001b[0m         IPYNBReader,\n\u001b[0;32m     58\u001b[0m         MarkdownReader,\n\u001b[0;32m     59\u001b[0m         MboxReader,\n\u001b[0;32m     60\u001b[0m         PandasCSVReader,\n\u001b[0;32m     61\u001b[0m         PandasExcelReader,\n\u001b[0;32m     62\u001b[0m         PDFReader,\n\u001b[0;32m     63\u001b[0m         PptxReader,\n\u001b[0;32m     64\u001b[0m         VideoAudioReader,\n\u001b[0;32m     65\u001b[0m     )  \u001b[38;5;66;03m# pants: no-infer-dep\u001b[39;00m\n\u001b[0;32m     66\u001b[0m \u001b[38;5;28;01mexcept\u001b[39;00m \u001b[38;5;167;01mImportError\u001b[39;00m:\n",
            "\u001b[1;31mImportError\u001b[0m: cannot import name 'DocxReader' from 'llama_index.readers.file' (unknown location)",
            "\nDuring handling of the above exception, another exception occurred:\n",
            "\u001b[1;31mImportError\u001b[0m                               Traceback (most recent call last)",
            "Cell \u001b[1;32mIn[11], line 2\u001b[0m\n\u001b[0;32m      1\u001b[0m \u001b[38;5;28;01mfrom\u001b[39;00m \u001b[38;5;21;01mllama_index\u001b[39;00m\u001b[38;5;21;01m.\u001b[39;00m\u001b[38;5;21;01mcore\u001b[39;00m \u001b[38;5;28;01mimport\u001b[39;00m SimpleDirectoryReader\n\u001b[1;32m----> 2\u001b[0m documents \u001b[38;5;241m=\u001b[39m \u001b[43mSimpleDirectoryReader\u001b[49m\u001b[43m(\u001b[49m\u001b[38;5;124;43mr\u001b[39;49m\u001b[38;5;124;43m\"\u001b[39;49m\u001b[38;5;124;43mC:\u001b[39;49m\u001b[38;5;124;43m\\\u001b[39;49m\u001b[38;5;124;43mUsers\u001b[39;49m\u001b[38;5;124;43m\\\u001b[39;49m\u001b[38;5;124;43magshi\u001b[39;49m\u001b[38;5;124;43m\\\u001b[39;49m\u001b[38;5;124;43mDownloads\u001b[39;49m\u001b[38;5;124;43m\\\u001b[39;49m\u001b[38;5;124;43mdiscussion_data-20240911T083316Z-001\u001b[39;49m\u001b[38;5;124;43m\\\u001b[39;49m\u001b[38;5;124;43mdiscussion_data\u001b[39;49m\u001b[38;5;124;43m\"\u001b[39;49m\u001b[43m,\u001b[49m\u001b[43m \u001b[49m\u001b[43mfilename_as_id\u001b[49m\u001b[38;5;241;43m=\u001b[39;49m\u001b[38;5;28;43;01mTrue\u001b[39;49;00m\u001b[43m)\u001b[49m\u001b[38;5;241;43m.\u001b[39;49m\u001b[43mload_data\u001b[49m\u001b[43m(\u001b[49m\u001b[43m)\u001b[49m\n\u001b[0;32m      3\u001b[0m \u001b[38;5;28mprint\u001b[39m(\u001b[38;5;124mf\u001b[39m\u001b[38;5;124m\"\u001b[39m\u001b[38;5;124mLoaded \u001b[39m\u001b[38;5;132;01m{\u001b[39;00m\u001b[38;5;28mlen\u001b[39m(documents)\u001b[38;5;132;01m}\u001b[39;00m\u001b[38;5;124m documents.\u001b[39m\u001b[38;5;124m\"\u001b[39m)\n",
            "File \u001b[1;32m~\\AppData\\Local\\Packages\\PythonSoftwareFoundation.Python.3.11_qbz5n2kfra8p0\\LocalCache\\local-packages\\Python311\\site-packages\\llama_index\\core\\readers\\file\\base.py:697\u001b[0m, in \u001b[0;36mSimpleDirectoryReader.load_data\u001b[1;34m(self, show_progress, num_workers, fs)\u001b[0m\n\u001b[0;32m    692\u001b[0m         files_to_process \u001b[38;5;241m=\u001b[39m tqdm(\n\u001b[0;32m    693\u001b[0m             \u001b[38;5;28mself\u001b[39m\u001b[38;5;241m.\u001b[39minput_files, desc\u001b[38;5;241m=\u001b[39m\u001b[38;5;124m\"\u001b[39m\u001b[38;5;124mLoading files\u001b[39m\u001b[38;5;124m\"\u001b[39m, unit\u001b[38;5;241m=\u001b[39m\u001b[38;5;124m\"\u001b[39m\u001b[38;5;124mfile\u001b[39m\u001b[38;5;124m\"\u001b[39m\n\u001b[0;32m    694\u001b[0m         )\n\u001b[0;32m    695\u001b[0m     \u001b[38;5;28;01mfor\u001b[39;00m input_file \u001b[38;5;129;01min\u001b[39;00m files_to_process:\n\u001b[0;32m    696\u001b[0m         documents\u001b[38;5;241m.\u001b[39mextend(\n\u001b[1;32m--> 697\u001b[0m             \u001b[43mSimpleDirectoryReader\u001b[49m\u001b[38;5;241;43m.\u001b[39;49m\u001b[43mload_file\u001b[49m\u001b[43m(\u001b[49m\n\u001b[0;32m    698\u001b[0m \u001b[43m                \u001b[49m\u001b[43minput_file\u001b[49m\u001b[38;5;241;43m=\u001b[39;49m\u001b[43minput_file\u001b[49m\u001b[43m,\u001b[49m\n\u001b[0;32m    699\u001b[0m \u001b[43m                \u001b[49m\u001b[43mfile_metadata\u001b[49m\u001b[38;5;241;43m=\u001b[39;49m\u001b[38;5;28;43mself\u001b[39;49m\u001b[38;5;241;43m.\u001b[39;49m\u001b[43mfile_metadata\u001b[49m\u001b[43m,\u001b[49m\n\u001b[0;32m    700\u001b[0m \u001b[43m                \u001b[49m\u001b[43mfile_extractor\u001b[49m\u001b[38;5;241;43m=\u001b[39;49m\u001b[38;5;28;43mself\u001b[39;49m\u001b[38;5;241;43m.\u001b[39;49m\u001b[43mfile_extractor\u001b[49m\u001b[43m,\u001b[49m\n\u001b[0;32m    701\u001b[0m \u001b[43m                \u001b[49m\u001b[43mfilename_as_id\u001b[49m\u001b[38;5;241;43m=\u001b[39;49m\u001b[38;5;28;43mself\u001b[39;49m\u001b[38;5;241;43m.\u001b[39;49m\u001b[43mfilename_as_id\u001b[49m\u001b[43m,\u001b[49m\n\u001b[0;32m    702\u001b[0m \u001b[43m                \u001b[49m\u001b[43mencoding\u001b[49m\u001b[38;5;241;43m=\u001b[39;49m\u001b[38;5;28;43mself\u001b[39;49m\u001b[38;5;241;43m.\u001b[39;49m\u001b[43mencoding\u001b[49m\u001b[43m,\u001b[49m\n\u001b[0;32m    703\u001b[0m \u001b[43m                \u001b[49m\u001b[43merrors\u001b[49m\u001b[38;5;241;43m=\u001b[39;49m\u001b[38;5;28;43mself\u001b[39;49m\u001b[38;5;241;43m.\u001b[39;49m\u001b[43merrors\u001b[49m\u001b[43m,\u001b[49m\n\u001b[0;32m    704\u001b[0m \u001b[43m                \u001b[49m\u001b[43mraise_on_error\u001b[49m\u001b[38;5;241;43m=\u001b[39;49m\u001b[38;5;28;43mself\u001b[39;49m\u001b[38;5;241;43m.\u001b[39;49m\u001b[43mraise_on_error\u001b[49m\u001b[43m,\u001b[49m\n\u001b[0;32m    705\u001b[0m \u001b[43m                \u001b[49m\u001b[43mfs\u001b[49m\u001b[38;5;241;43m=\u001b[39;49m\u001b[43mfs\u001b[49m\u001b[43m,\u001b[49m\n\u001b[0;32m    706\u001b[0m \u001b[43m            \u001b[49m\u001b[43m)\u001b[49m\n\u001b[0;32m    707\u001b[0m         )\n\u001b[0;32m    709\u001b[0m \u001b[38;5;28;01mreturn\u001b[39;00m \u001b[38;5;28mself\u001b[39m\u001b[38;5;241m.\u001b[39m_exclude_metadata(documents)\n",
            "File \u001b[1;32m~\\AppData\\Local\\Packages\\PythonSoftwareFoundation.Python.3.11_qbz5n2kfra8p0\\LocalCache\\local-packages\\Python311\\site-packages\\llama_index\\core\\readers\\file\\base.py:518\u001b[0m, in \u001b[0;36mSimpleDirectoryReader.load_file\u001b[1;34m(input_file, file_metadata, file_extractor, filename_as_id, encoding, errors, raise_on_error, fs)\u001b[0m\n\u001b[0;32m    485\u001b[0m \u001b[38;5;250m\u001b[39m\u001b[38;5;124;03m\"\"\"\u001b[39;00m\n\u001b[0;32m    486\u001b[0m \u001b[38;5;124;03mStatic method for loading file.\u001b[39;00m\n\u001b[0;32m    487\u001b[0m \n\u001b[1;32m   (...)\u001b[0m\n\u001b[0;32m    515\u001b[0m \u001b[38;5;124;03m    List[Document]: loaded documents\u001b[39;00m\n\u001b[0;32m    516\u001b[0m \u001b[38;5;124;03m\"\"\"\u001b[39;00m\n\u001b[0;32m    517\u001b[0m \u001b[38;5;66;03m# TODO: make this less redundant\u001b[39;00m\n\u001b[1;32m--> 518\u001b[0m default_file_reader_cls \u001b[38;5;241m=\u001b[39m \u001b[43mSimpleDirectoryReader\u001b[49m\u001b[38;5;241;43m.\u001b[39;49m\u001b[43msupported_suffix_fn\u001b[49m\u001b[43m(\u001b[49m\u001b[43m)\u001b[49m\n\u001b[0;32m    519\u001b[0m default_file_reader_suffix \u001b[38;5;241m=\u001b[39m \u001b[38;5;28mlist\u001b[39m(default_file_reader_cls\u001b[38;5;241m.\u001b[39mkeys())\n\u001b[0;32m    520\u001b[0m metadata: Optional[\u001b[38;5;28mdict\u001b[39m] \u001b[38;5;241m=\u001b[39m \u001b[38;5;28;01mNone\u001b[39;00m\n",
            "File \u001b[1;32m~\\AppData\\Local\\Packages\\PythonSoftwareFoundation.Python.3.11_qbz5n2kfra8p0\\LocalCache\\local-packages\\Python311\\site-packages\\llama_index\\core\\readers\\file\\base.py:67\u001b[0m, in \u001b[0;36m_try_loading_included_file_formats\u001b[1;34m()\u001b[0m\n\u001b[0;32m     52\u001b[0m     \u001b[38;5;28;01mfrom\u001b[39;00m \u001b[38;5;21;01mllama_index\u001b[39;00m\u001b[38;5;21;01m.\u001b[39;00m\u001b[38;5;21;01mreaders\u001b[39;00m\u001b[38;5;21;01m.\u001b[39;00m\u001b[38;5;21;01mfile\u001b[39;00m \u001b[38;5;28;01mimport\u001b[39;00m (\n\u001b[0;32m     53\u001b[0m         DocxReader,\n\u001b[0;32m     54\u001b[0m         EpubReader,\n\u001b[1;32m   (...)\u001b[0m\n\u001b[0;32m     64\u001b[0m         VideoAudioReader,\n\u001b[0;32m     65\u001b[0m     )  \u001b[38;5;66;03m# pants: no-infer-dep\u001b[39;00m\n\u001b[0;32m     66\u001b[0m \u001b[38;5;28;01mexcept\u001b[39;00m \u001b[38;5;167;01mImportError\u001b[39;00m:\n\u001b[1;32m---> 67\u001b[0m     \u001b[38;5;28;01mraise\u001b[39;00m \u001b[38;5;167;01mImportError\u001b[39;00m(\u001b[38;5;124m\"\u001b[39m\u001b[38;5;124m`llama-index-readers-file` package not found\u001b[39m\u001b[38;5;124m\"\u001b[39m)\n\u001b[0;32m     69\u001b[0m default_file_reader_cls: Dict[\u001b[38;5;28mstr\u001b[39m, Type[BaseReader]] \u001b[38;5;241m=\u001b[39m {\n\u001b[0;32m     70\u001b[0m     \u001b[38;5;124m\"\u001b[39m\u001b[38;5;124m.hwp\u001b[39m\u001b[38;5;124m\"\u001b[39m: HWPReader,\n\u001b[0;32m     71\u001b[0m     \u001b[38;5;124m\"\u001b[39m\u001b[38;5;124m.pdf\u001b[39m\u001b[38;5;124m\"\u001b[39m: PDFReader,\n\u001b[1;32m   (...)\u001b[0m\n\u001b[0;32m     89\u001b[0m     \u001b[38;5;124m\"\u001b[39m\u001b[38;5;124m.xlsx\u001b[39m\u001b[38;5;124m\"\u001b[39m: PandasExcelReader,\n\u001b[0;32m     90\u001b[0m }\n\u001b[0;32m     91\u001b[0m \u001b[38;5;28;01mreturn\u001b[39;00m default_file_reader_cls\n",
            "\u001b[1;31mImportError\u001b[0m: `llama-index-readers-file` package not found"
          ]
        }
      ],
      "source": [
        "from llama_index.core import SimpleDirectoryReader\n",
        "documents = SimpleDirectoryReader(r\"C:\\Users\\agshi\\Downloads\\discussion_data-20240911T083316Z-001\\discussion_data\", filename_as_id=True).load_data()\n",
        "print(f\"Loaded {len(documents)} documents.\")"
      ]
    },
    {
      "cell_type": "markdown",
      "id": "kRpFq6vyLnXR",
      "metadata": {
        "id": "kRpFq6vyLnXR"
      },
      "source": [
        "## Generating the questions for evaluation"
      ]
    },
    {
      "cell_type": "code",
      "execution_count": 3,
      "id": "XhHDA90HJfaF",
      "metadata": {
        "id": "XhHDA90HJfaF"
      },
      "outputs": [
        {
          "ename": "TypeError",
          "evalue": "Expected: str, Model, or TunedModel",
          "output_type": "error",
          "traceback": [
            "\u001b[1;31m---------------------------------------------------------------------------\u001b[0m",
            "\u001b[1;31mTypeError\u001b[0m                                 Traceback (most recent call last)",
            "Cell \u001b[1;32mIn[3], line 10\u001b[0m\n\u001b[0;32m      8\u001b[0m \u001b[38;5;66;03m# create llm\u001b[39;00m\n\u001b[0;32m      9\u001b[0m os\u001b[38;5;241m.\u001b[39menviron[\u001b[38;5;124m\"\u001b[39m\u001b[38;5;124mGOOGLE_API_KEY\u001b[39m\u001b[38;5;124m\"\u001b[39m] \u001b[38;5;241m=\u001b[39m \u001b[38;5;124m\"\u001b[39m\u001b[38;5;124mAIzaSyC_UnbyMmhvklBRyjLvdEWXuhXim_BX0fk\u001b[39m\u001b[38;5;124m\"\u001b[39m\n\u001b[1;32m---> 10\u001b[0m Settings\u001b[38;5;241m.\u001b[39mllm \u001b[38;5;241m=\u001b[39m \u001b[43mGemini\u001b[49m\u001b[43m(\u001b[49m\u001b[43mmodel\u001b[49m\u001b[38;5;241;43m=\u001b[39;49m\u001b[38;5;124;43m\"\u001b[39;49m\u001b[38;5;124;43mmodels/gemini-pro\u001b[39;49m\u001b[38;5;124;43m\"\u001b[39;49m\u001b[43m,\u001b[49m\u001b[43m \u001b[49m\u001b[43mtemperature\u001b[49m\u001b[38;5;241;43m=\u001b[39;49m\u001b[38;5;241;43m0\u001b[39;49m\u001b[43m)\u001b[49m\n\u001b[0;32m     11\u001b[0m \u001b[38;5;28;01mdef\u001b[39;00m \u001b[38;5;21mquestion_dataset_generator\u001b[39m(document):\n\u001b[0;32m     12\u001b[0m   dataset_generator \u001b[38;5;241m=\u001b[39m RagDatasetGenerator\u001b[38;5;241m.\u001b[39mfrom_documents(\n\u001b[0;32m     13\u001b[0m       documents\u001b[38;5;241m=\u001b[39mdocument,\n\u001b[0;32m     14\u001b[0m       llm\u001b[38;5;241m=\u001b[39mllm,\n\u001b[0;32m     15\u001b[0m       num_questions_per_chunk\u001b[38;5;241m=\u001b[39m\u001b[38;5;241m2\u001b[39m,\n\u001b[0;32m     16\u001b[0m       show_progress\u001b[38;5;241m=\u001b[39m\u001b[38;5;28;01mTrue\u001b[39;00m       \u001b[38;5;66;03m# set the number of qu/estions per nodes\u001b[39;00m\n\u001b[0;32m     17\u001b[0m   )\n",
            "File \u001b[1;32m~\\AppData\\Local\\Packages\\PythonSoftwareFoundation.Python.3.11_qbz5n2kfra8p0\\LocalCache\\local-packages\\Python311\\site-packages\\llama_index\\llms\\gemini\\base.py:147\u001b[0m, in \u001b[0;36mGemini.__init__\u001b[1;34m(self, api_key, model, temperature, max_tokens, generation_config, safety_settings, callback_manager, api_base, transport, model_name, default_headers, **generate_kwargs)\u001b[0m\n\u001b[0;32m    139\u001b[0m final_gen_config \u001b[38;5;241m=\u001b[39m {\u001b[38;5;124m\"\u001b[39m\u001b[38;5;124mtemperature\u001b[39m\u001b[38;5;124m\"\u001b[39m: temperature, \u001b[38;5;241m*\u001b[39m\u001b[38;5;241m*\u001b[39mbase_gen_config}\n\u001b[0;32m    141\u001b[0m model \u001b[38;5;241m=\u001b[39m genai\u001b[38;5;241m.\u001b[39mGenerativeModel(\n\u001b[0;32m    142\u001b[0m     model_name\u001b[38;5;241m=\u001b[39mmodel,\n\u001b[0;32m    143\u001b[0m     generation_config\u001b[38;5;241m=\u001b[39mfinal_gen_config,\n\u001b[0;32m    144\u001b[0m     safety_settings\u001b[38;5;241m=\u001b[39msafety_settings,\n\u001b[0;32m    145\u001b[0m )\n\u001b[1;32m--> 147\u001b[0m model_meta \u001b[38;5;241m=\u001b[39m \u001b[43mgenai\u001b[49m\u001b[38;5;241;43m.\u001b[39;49m\u001b[43mget_model\u001b[49m\u001b[43m(\u001b[49m\u001b[43mmodel\u001b[49m\u001b[43m)\u001b[49m\n\u001b[0;32m    149\u001b[0m supported_methods \u001b[38;5;241m=\u001b[39m \u001b[38;5;28mself\u001b[39m\u001b[38;5;241m.\u001b[39m_model_meta\u001b[38;5;241m.\u001b[39msupported_generation_methods\n\u001b[0;32m    150\u001b[0m \u001b[38;5;28;01mif\u001b[39;00m \u001b[38;5;124m\"\u001b[39m\u001b[38;5;124mgenerateContent\u001b[39m\u001b[38;5;124m\"\u001b[39m \u001b[38;5;129;01mnot\u001b[39;00m \u001b[38;5;129;01min\u001b[39;00m supported_methods:\n",
            "File \u001b[1;32m~\\AppData\\Local\\Packages\\PythonSoftwareFoundation.Python.3.11_qbz5n2kfra8p0\\LocalCache\\local-packages\\Python311\\site-packages\\google\\generativeai\\models.py:52\u001b[0m, in \u001b[0;36mget_model\u001b[1;34m(name, client, request_options)\u001b[0m\n\u001b[0;32m     30\u001b[0m \u001b[38;5;28;01mdef\u001b[39;00m \u001b[38;5;21mget_model\u001b[39m(\n\u001b[0;32m     31\u001b[0m     name: model_types\u001b[38;5;241m.\u001b[39mAnyModelNameOptions,\n\u001b[0;32m     32\u001b[0m     \u001b[38;5;241m*\u001b[39m,\n\u001b[0;32m     33\u001b[0m     client\u001b[38;5;241m=\u001b[39m\u001b[38;5;28;01mNone\u001b[39;00m,\n\u001b[0;32m     34\u001b[0m     request_options: \u001b[38;5;28mdict\u001b[39m[\u001b[38;5;28mstr\u001b[39m, Any] \u001b[38;5;241m|\u001b[39m \u001b[38;5;28;01mNone\u001b[39;00m \u001b[38;5;241m=\u001b[39m \u001b[38;5;28;01mNone\u001b[39;00m,\n\u001b[0;32m     35\u001b[0m ) \u001b[38;5;241m-\u001b[39m\u001b[38;5;241m>\u001b[39m model_types\u001b[38;5;241m.\u001b[39mModel \u001b[38;5;241m|\u001b[39m model_types\u001b[38;5;241m.\u001b[39mTunedModel:\n\u001b[0;32m     36\u001b[0m \u001b[38;5;250m    \u001b[39m\u001b[38;5;124;03m\"\"\"Given a model name, fetch the `types.Model` or `types.TunedModel` object.\u001b[39;00m\n\u001b[0;32m     37\u001b[0m \n\u001b[0;32m     38\u001b[0m \u001b[38;5;124;03m    ```\u001b[39;00m\n\u001b[1;32m   (...)\u001b[0m\n\u001b[0;32m     50\u001b[0m \u001b[38;5;124;03m        A `types.Model` or `types.TunedModel` object.\u001b[39;00m\n\u001b[0;32m     51\u001b[0m \u001b[38;5;124;03m    \"\"\"\u001b[39;00m\n\u001b[1;32m---> 52\u001b[0m     name \u001b[38;5;241m=\u001b[39m \u001b[43mmodel_types\u001b[49m\u001b[38;5;241;43m.\u001b[39;49m\u001b[43mmake_model_name\u001b[49m\u001b[43m(\u001b[49m\u001b[43mname\u001b[49m\u001b[43m)\u001b[49m\n\u001b[0;32m     53\u001b[0m     \u001b[38;5;28;01mif\u001b[39;00m name\u001b[38;5;241m.\u001b[39mstartswith(\u001b[38;5;124m\"\u001b[39m\u001b[38;5;124mmodels/\u001b[39m\u001b[38;5;124m\"\u001b[39m):\n\u001b[0;32m     54\u001b[0m         \u001b[38;5;28;01mreturn\u001b[39;00m get_base_model(name, client\u001b[38;5;241m=\u001b[39mclient, request_options\u001b[38;5;241m=\u001b[39mrequest_options)\n",
            "File \u001b[1;32m~\\AppData\\Local\\Packages\\PythonSoftwareFoundation.Python.3.11_qbz5n2kfra8p0\\LocalCache\\local-packages\\Python311\\site-packages\\google\\generativeai\\types\\model_types.py:350\u001b[0m, in \u001b[0;36mmake_model_name\u001b[1;34m(name)\u001b[0m\n\u001b[0;32m    348\u001b[0m     name \u001b[38;5;241m=\u001b[39m name\n\u001b[0;32m    349\u001b[0m \u001b[38;5;28;01melse\u001b[39;00m:\n\u001b[1;32m--> 350\u001b[0m     \u001b[38;5;28;01mraise\u001b[39;00m \u001b[38;5;167;01mTypeError\u001b[39;00m(\u001b[38;5;124m\"\u001b[39m\u001b[38;5;124mExpected: str, Model, or TunedModel\u001b[39m\u001b[38;5;124m\"\u001b[39m)\n\u001b[0;32m    352\u001b[0m \u001b[38;5;28;01mif\u001b[39;00m \u001b[38;5;129;01mnot\u001b[39;00m (name\u001b[38;5;241m.\u001b[39mstartswith(\u001b[38;5;124m\"\u001b[39m\u001b[38;5;124mmodels/\u001b[39m\u001b[38;5;124m\"\u001b[39m) \u001b[38;5;129;01mor\u001b[39;00m name\u001b[38;5;241m.\u001b[39mstartswith(\u001b[38;5;124m\"\u001b[39m\u001b[38;5;124mtunedModels/\u001b[39m\u001b[38;5;124m\"\u001b[39m)):\n\u001b[0;32m    353\u001b[0m     \u001b[38;5;28;01mraise\u001b[39;00m \u001b[38;5;167;01mValueError\u001b[39;00m(\u001b[38;5;124mf\u001b[39m\u001b[38;5;124m\"\u001b[39m\u001b[38;5;124mModel names should start with `models/` or `tunedModels/`, got: \u001b[39m\u001b[38;5;132;01m{\u001b[39;00mname\u001b[38;5;132;01m}\u001b[39;00m\u001b[38;5;124m\"\u001b[39m)\n",
            "\u001b[1;31mTypeError\u001b[0m: Expected: str, Model, or TunedModel"
          ]
        }
      ],
      "source": [
        "from llama_index.core import SimpleDirectoryReader\n",
        "from llama_index.core.llama_dataset.generator import RagDatasetGenerator\n",
        "from llama_index.llms.gemini import Gemini\n",
        "import os\n",
        "import nest_asyncio\n",
        "nest_asyncio.apply()\n",
        "# create llm\n",
        "os.environ[\"GOOGLE_API_KEY\"] = \"your key\"\n",
        "Settings.llm = Gemini(model=\"models/gemini-pro\", temperature=0)\n",
        "def question_dataset_generator(document):\n",
        "  dataset_generator = RagDatasetGenerator.from_documents(\n",
        "      documents=document,\n",
        "      llm=llm,\n",
        "      num_questions_per_chunk=2,\n",
        "      show_progress=True       # set the number of qu/estions per nodes\n",
        "  )\n",
        "\n",
        "  rag_dataset = dataset_generator.generate_questions_from_nodes()\n",
        "  question = [e.query for e in rag_dataset.examples]\n",
        "  return question"
      ]
    },
    {
      "cell_type": "code",
      "execution_count": null,
      "id": "tzOWBcXLQ_yx",
      "metadata": {
        "id": "tzOWBcXLQ_yx"
      },
      "outputs": [],
      "source": [
        "def chunk_document(document, chunk_size):\n",
        "    # Split the document into chunks of the specified chunk size\n",
        "    return [document[i:i+chunk_size] for i in range(0, len(document), chunk_size)]\n"
      ]
    },
    {
      "cell_type": "code",
      "execution_count": null,
      "id": "x5Kal2KNR9Ly",
      "metadata": {
        "id": "x5Kal2KNR9Ly"
      },
      "outputs": [],
      "source": [
        "questions = []\n",
        "for i in range(0, len(documents)-76, 2):\n",
        "    print(i)\n",
        "    document_pair = documents[i:i+2]  # Take two documents at a time\n",
        "    question = question_dataset_generator(document_pair)\n",
        "    questions.extend(question)"
      ]
    },
    {
      "cell_type": "code",
      "execution_count": null,
      "id": "8ngVuNi0UJ3Y",
      "metadata": {
        "id": "8ngVuNi0UJ3Y"
      },
      "outputs": [],
      "source": [
        "question_dataset_generator(documents[3:4])"
      ]
    },
    {
      "cell_type": "code",
      "execution_count": null,
      "id": "n3vCCfpCMjCD",
      "metadata": {
        "id": "n3vCCfpCMjCD"
      },
      "outputs": [],
      "source": [
        "from llama_index.core.evaluation import BatchEvalRunner\n",
        "from llama_index.core.evaluation import RelevancyEvaluator\n",
        "from llama_index.core.evaluation import FaithfulnessEvaluator\n",
        "from llama_index.llms.groq import Groq\n",
        "import os\n",
        "from llama_index.llms.gemini import Gemini\n",
        "\n",
        "os.environ[\"GOOGLE_API_KEY\"] = \"your key\"\n",
        "llm = Gemini(model=\"models/gemini-pro\", temperature=0)\n",
        "relevancy_evaluator = RelevancyEvaluator(llm=llm)\n",
        "faithfulness_evaluator = FaithfulnessEvaluator(llm=llm)\n",
        "runner = BatchEvalRunner(\n",
        "    {\"faithfulness\": faithfulness_evaluator, \"relevancy\": relevancy_evaluator},\n",
        "    workers=8,\n",
        ")"
      ]
    },
    {
      "cell_type": "markdown",
      "id": "il3Ft3BwXh6y",
      "metadata": {
        "id": "il3Ft3BwXh6y"
      },
      "source": []
    },
    {
      "cell_type": "code",
      "execution_count": null,
      "id": "PvuRHPsHNz3W",
      "metadata": {
        "id": "PvuRHPsHNz3W"
      },
      "outputs": [],
      "source": [
        "def extract_elements(eval_result):\n",
        "    # Dictionary to store the extracted elements\n",
        "    extracted_data = {\n",
        "        \"contexts\": [eval_result.contexts],\n",
        "        \"response\": [eval_result.response],\n",
        "        \"passing\": [eval_result.passing],\n",
        "        \"feedback\": [eval_result.feedback],\n",
        "        \"score\": [eval_result.score],\n",
        "        \"pairwise_source\": [eval_result.pairwise_source],\n",
        "        \"invalid_result\": [eval_result.invalid_result],\n",
        "        \"invalid_reason\": [eval_result.invalid_reason]\n",
        "    }\n",
        "\n",
        "    # Convert the dictionary into a DataFrame\n",
        "    df = pd.DataFrame(extracted_data)\n",
        "    return df\n"
      ]
    },
    {
      "cell_type": "code",
      "execution_count": null,
      "id": "dPhc-s5vXa3U",
      "metadata": {
        "id": "dPhc-s5vXa3U"
      },
      "outputs": [],
      "source": [
        "import time\n",
        "faithfulness_df = pd.DataFrame()\n",
        "relevancy_df = pd.DataFrame()\n",
        "\n",
        "for question in questions:\n",
        "    response = query_engine.query(question)\n",
        "\n",
        "    # Evaluate faithfulness\n",
        "    eval_result = faithfulness_evaluator.evaluate_response(query=question, response=response)\n",
        "    faithfulness_elements = extract_elements(eval_result)\n",
        "    faithfulness_df = pd.concat([faithfulness_df, faithfulness_elements], ignore_index=True)\n",
        "\n",
        "    # Evaluate relevancy\n",
        "    eval_result = relevancy_evaluator.evaluate_response( query=question, response=response)\n",
        "    relevancy_elements = extract_elements(eval_result)\n",
        "    relevancy_df = pd.concat([relevancy_df,relevancy_elements], ignore_index=True)\n",
        "\n",
        "    time.sleep(60)\n"
      ]
    },
    {
      "cell_type": "code",
      "execution_count": null,
      "id": "_4GcnTTspCye",
      "metadata": {
        "id": "_4GcnTTspCye"
      },
      "outputs": [],
      "source": [
        "relevancy_df"
      ]
    },
    {
      "cell_type": "markdown",
      "id": "HKJjb133Pris",
      "metadata": {
        "id": "HKJjb133Pris"
      },
      "source": [
        "## Creating dataframe for average score calculation"
      ]
    },
    {
      "cell_type": "code",
      "execution_count": null,
      "id": "PWUJhbKZRhk4",
      "metadata": {
        "id": "PWUJhbKZRhk4"
      },
      "outputs": [],
      "source": [
        "def calculate_average_scores(faithfulness_df,relevancy_df):\n",
        "  avg_faithfulness_score = faithfulness_df['score'].mean()\n",
        "  avg_relevancy_score = relevancy_df['score'].mean()\n",
        "  return {\n",
        "        \"average_faithfulness_score\": avg_faithfulness_score,\n",
        "        \"average_relevancy_score\": avg_relevancy_score\n",
        "    }"
      ]
    },
    {
      "cell_type": "code",
      "execution_count": null,
      "id": "rsu0PaLIT3kP",
      "metadata": {
        "id": "rsu0PaLIT3kP"
      },
      "outputs": [],
      "source": [
        "calculate_average_scores(faithfulness_df,relevancy_df)"
      ]
    },
    {
      "cell_type": "code",
      "execution_count": null,
      "id": "6vNdJLyNT6UC",
      "metadata": {
        "id": "6vNdJLyNT6UC"
      },
      "outputs": [],
      "source": [
        "faithfulness_df"
      ]
    },
    {
      "cell_type": "code",
      "execution_count": null,
      "id": "bkrArTVUjaQU",
      "metadata": {
        "id": "bkrArTVUjaQU"
      },
      "outputs": [],
      "source": []
    }
  ],
  "metadata": {
    "colab": {
      "private_outputs": true,
      "provenance": []
    },
    "kernelspec": {
      "display_name": "Python 3",
      "name": "python3"
    },
    "language_info": {
      "codemirror_mode": {
        "name": "ipython",
        "version": 3
      },
      "file_extension": ".py",
      "mimetype": "text/x-python",
      "name": "python",
      "nbconvert_exporter": "python",
      "pygments_lexer": "ipython3",
      "version": "3.11.9"
    }
  },
  "nbformat": 4,
  "nbformat_minor": 5
}
